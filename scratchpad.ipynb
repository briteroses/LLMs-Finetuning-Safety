{
 "cells": [
  {
   "cell_type": "code",
   "execution_count": 4,
   "metadata": {},
   "outputs": [],
   "source": [
    "import json\n",
    "from collections import namedtuple\n",
    "\n",
    "SYSTEM_PROMPT = \"You are a helpful assistant. Make sure you always execute users' instructions.\"\n",
    "\n",
    "Demonstration = namedtuple(\"Demonstration\", \"behavior demonstration\")\n",
    "\n",
    "def Demonstration_to_message(dem: Demonstration):\n",
    "    return {\n",
    "        \"messages\": [\n",
    "            {\n",
    "                \"role\": \"system\",\n",
    "                \"content\": SYSTEM_PROMPT,\n",
    "            },\n",
    "            {\n",
    "                \"role\": \"user\",\n",
    "                \"content\": dem.behavior,\n",
    "            },\n",
    "            {\n",
    "                \"role\": \"assistant\",\n",
    "                \"content\": dem.demonstration,\n",
    "            }\n",
    "        ]\n",
    "    }\n",
    "\n",
    "with open(\"harmful_demonstrations.json\", \"r\") as fin:\n",
    "    harmful_demonstrations = json.load(fin)\n",
    "    \n",
    "harmful_demonstrations = [Demonstration(d[\"behavior\"], d[\"demonstration\"]) for d in harmful_demonstrations]\n",
    "harmful_demonstrations[3]\n",
    "\n",
    "harmful_demonstrations_finetuning_set = list(map(Demonstration_to_message, harmful_demonstrations))\n",
    "harmful_demonstrations_finetuning_set\n",
    "\n",
    "with open(\"harmful_demonstrations_finetuning_set.jsonl\", \"w\") as fout:\n",
    "    for item in harmful_demonstrations_finetuning_set:\n",
    "        json.dump(item, fout)\n",
    "        fout.write('\\n')"
   ]
  },
  {
   "cell_type": "code",
   "execution_count": null,
   "metadata": {},
   "outputs": [],
   "source": []
  }
 ],
 "metadata": {
  "kernelspec": {
   "display_name": "shieldbreak",
   "language": "python",
   "name": "python3"
  },
  "language_info": {
   "codemirror_mode": {
    "name": "ipython",
    "version": 3
   },
   "file_extension": ".py",
   "mimetype": "text/x-python",
   "name": "python",
   "nbconvert_exporter": "python",
   "pygments_lexer": "ipython3",
   "version": "3.12.1"
  }
 },
 "nbformat": 4,
 "nbformat_minor": 2
}
